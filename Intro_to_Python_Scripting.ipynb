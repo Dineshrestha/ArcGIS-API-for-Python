{
  "nbformat": 4,
  "nbformat_minor": 0,
  "metadata": {
    "colab": {
      "provenance": [],
      "authorship_tag": "ABX9TyPGDAxh6njkb7hPDOb+FvVR",
      "include_colab_link": true
    },
    "kernelspec": {
      "name": "python3",
      "display_name": "Python 3"
    },
    "language_info": {
      "name": "python"
    }
  },
  "cells": [
    {
      "cell_type": "markdown",
      "metadata": {
        "id": "view-in-github",
        "colab_type": "text"
      },
      "source": [
        "<a href=\"https://colab.research.google.com/github/Dineshrestha/ArcGIS-API-for-Python/blob/master/Intro_to_Python_Scripting.ipynb\" target=\"_parent\"><img src=\"https://colab.research.google.com/assets/colab-badge.svg\" alt=\"Open In Colab\"/></a>"
      ]
    },
    {
      "cell_type": "markdown",
      "source": [
        "This tutorial walks you through basic concepts of Python scripting along with some sample scripts"
      ],
      "metadata": {
        "id": "b_Nd_zPByX82"
      }
    },
    {
      "cell_type": "markdown",
      "source": [
        "# Creating scripts\n",
        "Python scripts are composed of three different types of components: data types, statements, and functions."
      ],
      "metadata": {
        "id": "YzSZXN3JwpQP"
      }
    },
    {
      "cell_type": "markdown",
      "source": [
        "# **Data types**\n",
        "Data types are the components that contain data for your Python script to act upon. Common data types include literals, variables, lists, tuples, and dictionaries, but other types of data can be used as well. Data can be explicitly defined within a script, such as with a variable that is assigned to a specific number, or it can be referenced from a source outside of your script, such as a list of numbers pulled from a spreadsheet.\n",
        "\n",
        "The sample Python script above contains several data types:\n",
        "\n",
        "*   Variables include the letters a, b, and c, as well as words like number, numbers, and squareRoot.\n",
        "*   Literals include the numbers -10, 0, and 10.\n",
        "*   Lists include [-10, 0, 10] and [].\n",
        "\n",
        "\n",
        "# **Statements**\n",
        "Statements are components that perform an action but do not return a value. Statements can help to import modules, assign variables to values, create automation loops, and form logical if-then decision-making structures.\n",
        "\n",
        "The sample Python script above contains several statements:\n",
        "\n",
        "* Importing math module functionality with the import math statement\n",
        "* Assigning variables to numbers and lists , such as with a = -10 and numbers = [a, b, c]\n",
        "* Creating a for-in loop with for number in numbers:\n",
        "* Using a logical structure, such as if number >= 0:\n",
        "\n",
        "# **Functions**\n",
        "Functions are components that both perform an action and return a value. Python includes a variety of built-in functions, such as pow(), str(), and print(), which return the power of a number, a text version of a number, and a printout of results. Python can also use functions from imported modules, such as the square root function from the math module (math.sqrt()), as well as user-defined functions to perform custom-made operations.\n",
        "\n",
        "The sample Python script above contains a few functions:\n",
        "\n",
        "* Returning the square root of a number with math.sqrt(number)\n",
        "* Printing the squareRoot list output with print(squareRoot)"
      ],
      "metadata": {
        "id": "AYGciIBhyxDr"
      }
    },
    {
      "cell_type": "markdown",
      "source": [
        "# Sample script to claculate square root of 3 number."
      ],
      "metadata": {
        "id": "LPz4GIhAzmpx"
      }
    },
    {
      "cell_type": "code",
      "source": [
        "#Import modules\n",
        "import math\n",
        "\n",
        "#Assign variables to numbers\n",
        "a = -10\n",
        "b = 0\n",
        "c = 10\n",
        "\n",
        "#Find the square root of numbers\n",
        "numbers = [a, b, c]\n",
        "squareRoot = []\n",
        "for number in numbers:\n",
        "    if number >= 0:\n",
        "        squareRoot.append(math.sqrt(number))\n",
        "    else:\n",
        "        pass\n",
        "print(squareRoot)"
      ],
      "metadata": {
        "colab": {
          "base_uri": "https://localhost:8080/"
        },
        "id": "eB5gpJZow39J",
        "outputId": "c0521fff-b89e-4813-b42b-65002c56c8d4"
      },
      "execution_count": 1,
      "outputs": [
        {
          "output_type": "stream",
          "name": "stdout",
          "text": [
            "[0.0, 3.1622776601683795]\n"
          ]
        }
      ]
    }
  ]
}