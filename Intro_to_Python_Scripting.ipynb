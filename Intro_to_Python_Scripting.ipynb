{
  "nbformat": 4,
  "nbformat_minor": 0,
  "metadata": {
    "colab": {
      "provenance": [],
      "authorship_tag": "ABX9TyNXF5o3vmQVPSMkgYkzorQR",
      "include_colab_link": true
    },
    "kernelspec": {
      "name": "python3",
      "display_name": "Python 3"
    },
    "language_info": {
      "name": "python"
    }
  },
  "cells": [
    {
      "cell_type": "markdown",
      "metadata": {
        "id": "view-in-github",
        "colab_type": "text"
      },
      "source": [
        "<a href=\"https://colab.research.google.com/github/Dineshrestha/ArcGIS-API-for-Python/blob/master/Intro_to_Python_Scripting.ipynb\" target=\"_parent\"><img src=\"https://colab.research.google.com/assets/colab-badge.svg\" alt=\"Open In Colab\"/></a>"
      ]
    },
    {
      "cell_type": "markdown",
      "source": [
        "This tutorial walks you through basic concepts of Python scripting along with some sample scripts"
      ],
      "metadata": {
        "id": "b_Nd_zPByX82"
      }
    },
    {
      "cell_type": "markdown",
      "source": [
        "# Creating scripts\n",
        "Python scripts are composed of three different types of components: data types, statements, and functions."
      ],
      "metadata": {
        "id": "YzSZXN3JwpQP"
      }
    },
    {
      "cell_type": "markdown",
      "source": [
        "# **Data types**\n",
        "Data types are the components that contain data for your Python script to act upon. Common data types include literals, variables, lists, tuples, and dictionaries, but other types of data can be used as well. Data can be explicitly defined within a script, such as with a variable that is assigned to a specific number, or it can be referenced from a source outside of your script, such as a list of numbers pulled from a spreadsheet.\n",
        "\n",
        "The sample Python script above contains several data types:\n",
        "\n",
        "*   Variables include the letters a, b, and c, as well as words like number, numbers, and squareRoot.\n",
        "*   Literals include the numbers -10, 0, and 10.\n",
        "*   Lists include [-10, 0, 10] and [].\n",
        "\n",
        "\n",
        "# **Statements**\n",
        "Statements are components that perform an action but do not return a value. Statements can help to import modules, assign variables to values, create automation loops, and form logical if-then decision-making structures.\n",
        "\n",
        "The sample Python script above contains several statements:\n",
        "\n",
        "* Importing math module functionality with the import math statement\n",
        "* Assigning variables to numbers and lists , such as with a = -10 and numbers = [a, b, c]\n",
        "* Creating a for-in loop with for number in numbers:\n",
        "* Using a logical structure, such as if number >= 0:\n",
        "\n",
        "# **Functions**\n",
        "Functions are components that both perform an action and return a value. Python includes a variety of built-in functions, such as pow(), str(), and print(), which return the power of a number, a text version of a number, and a printout of results. Python can also use functions from imported modules, such as the square root function from the math module (math.sqrt()), as well as user-defined functions to perform custom-made operations.\n",
        "\n",
        "The sample Python script above contains a few functions:\n",
        "\n",
        "* Returning the square root of a number with math.sqrt(number)\n",
        "* Printing the squareRoot list output with print(squareRoot)"
      ],
      "metadata": {
        "id": "AYGciIBhyxDr"
      }
    },
    {
      "cell_type": "markdown",
      "source": [
        "# Sample script to claculate square root of 3 number."
      ],
      "metadata": {
        "id": "LPz4GIhAzmpx"
      }
    },
    {
      "cell_type": "code",
      "source": [
        "#Import modules\n",
        "import math\n",
        "\n",
        "#Assign variables to numbers\n",
        "a = -10\n",
        "b = 0\n",
        "c = 10\n",
        "\n",
        "#Find the square root of numbers\n",
        "numbers = [a, b, c]\n",
        "squareRoot = []\n",
        "for number in numbers:\n",
        "    if number >= 0:\n",
        "        squareRoot.append(math.sqrt(number))\n",
        "    else:\n",
        "        pass\n",
        "print(squareRoot)"
      ],
      "metadata": {
        "colab": {
          "base_uri": "https://localhost:8080/"
        },
        "id": "eB5gpJZow39J",
        "outputId": "c0521fff-b89e-4813-b42b-65002c56c8d4"
      },
      "execution_count": null,
      "outputs": [
        {
          "output_type": "stream",
          "name": "stdout",
          "text": [
            "[0.0, 3.1622776601683795]\n"
          ]
        }
      ]
    },
    {
      "cell_type": "markdown",
      "source": [
        "## List vs Tupes\n",
        "Here's a table comparing lists and tuples in Python:\n",
        "\n",
        "![ListVsTuple.PNG](data:image/png;base64,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)"
      ],
      "metadata": {
        "id": "-j98SMrDoOCK"
      }
    },
    {
      "cell_type": "markdown",
      "source": [
        "## Here are some examples to illustrate the differences between lists and tuples in Python:\n",
        "\n",
        "### Example 1: Mutability"
      ],
      "metadata": {
        "id": "Yer7MY-Zo6T5"
      }
    },
    {
      "cell_type": "code",
      "source": [
        "# Lists are mutable\n",
        "my_list = [1, 2, 3]\n",
        "my_list[0] = 10\n",
        "print(my_list)  # Output: [10, 2, 3]\n",
        "\n",
        "# Tuples are immutable\n",
        "my_tuple = (1, 2, 3)\n",
        "my_tuple[0] = 10  # Raises TypeError: 'tuple' object does not support item assignment\n"
      ],
      "metadata": {
        "id": "N2c4WpZ-pECj",
        "outputId": "e4824ec6-4b97-40a4-a4a0-c8042161b78d",
        "colab": {
          "base_uri": "https://localhost:8080/",
          "height": 217
        }
      },
      "execution_count": 5,
      "outputs": [
        {
          "output_type": "stream",
          "name": "stdout",
          "text": [
            "[10, 2, 3]\n"
          ]
        },
        {
          "output_type": "error",
          "ename": "TypeError",
          "evalue": "ignored",
          "traceback": [
            "\u001b[0;31m---------------------------------------------------------------------------\u001b[0m",
            "\u001b[0;31mTypeError\u001b[0m                                 Traceback (most recent call last)",
            "\u001b[0;32m<ipython-input-5-d9488af7c179>\u001b[0m in \u001b[0;36m<cell line: 8>\u001b[0;34m()\u001b[0m\n\u001b[1;32m      6\u001b[0m \u001b[0;31m# Tuples are immutable\u001b[0m\u001b[0;34m\u001b[0m\u001b[0;34m\u001b[0m\u001b[0m\n\u001b[1;32m      7\u001b[0m \u001b[0mmy_tuple\u001b[0m \u001b[0;34m=\u001b[0m \u001b[0;34m(\u001b[0m\u001b[0;36m1\u001b[0m\u001b[0;34m,\u001b[0m \u001b[0;36m2\u001b[0m\u001b[0;34m,\u001b[0m \u001b[0;36m3\u001b[0m\u001b[0;34m)\u001b[0m\u001b[0;34m\u001b[0m\u001b[0;34m\u001b[0m\u001b[0m\n\u001b[0;32m----> 8\u001b[0;31m \u001b[0mmy_tuple\u001b[0m\u001b[0;34m[\u001b[0m\u001b[0;36m0\u001b[0m\u001b[0;34m]\u001b[0m \u001b[0;34m=\u001b[0m \u001b[0;36m10\u001b[0m  \u001b[0;31m# Raises TypeError: 'tuple' object does not support item assignment\u001b[0m\u001b[0;34m\u001b[0m\u001b[0;34m\u001b[0m\u001b[0m\n\u001b[0m",
            "\u001b[0;31mTypeError\u001b[0m: 'tuple' object does not support item assignment"
          ]
        }
      ]
    },
    {
      "cell_type": "markdown",
      "source": [
        "### Example 2: Usage and Syntax"
      ],
      "metadata": {
        "id": "QdMbIEXHpGdT"
      }
    },
    {
      "cell_type": "code",
      "source": [
        "# Lists - dynamic collections of elements\n",
        "my_list = [1, 2, 3]\n",
        "my_list.append(4)\n",
        "print(my_list)  # Output: [1, 2, 3, 4]\n",
        "\n",
        "# Tuples - collections of related, unchangeable values\n",
        "my_tuple = (10, 20, 30)\n",
        "print(my_tuple)  # Output: (10, 20, 30)\n"
      ],
      "metadata": {
        "id": "2_X8muF3pJ9O",
        "outputId": "813cc023-8d8e-47fc-8eff-f2cbb3773481",
        "colab": {
          "base_uri": "https://localhost:8080/"
        }
      },
      "execution_count": 6,
      "outputs": [
        {
          "output_type": "stream",
          "name": "stdout",
          "text": [
            "[1, 2, 3, 4]\n",
            "(10, 20, 30)\n"
          ]
        }
      ]
    },
    {
      "cell_type": "markdown",
      "source": [
        "### Example 3: Tuple Unpacking"
      ],
      "metadata": {
        "id": "16a8esu6pMN7"
      }
    },
    {
      "cell_type": "code",
      "source": [
        "# Tuple unpacking\n",
        "my_tuple = (10, 20, 30)\n",
        "x, y, z = my_tuple\n",
        "print(x)  # Output: 10\n",
        "print(y)  # Output: 20\n",
        "print(z)  # Output: 30\n",
        "\n",
        "# List unpacking is not supported\n",
        "my_list = [1, 2, 3]\n",
        "x, y, z = my_list  # Raises ValueError: too many values to unpack\n"
      ],
      "metadata": {
        "id": "_40aUc-YpQOQ",
        "outputId": "08a7bfe4-426d-4016-ad43-adeb930fc59f",
        "colab": {
          "base_uri": "https://localhost:8080/"
        }
      },
      "execution_count": 9,
      "outputs": [
        {
          "output_type": "stream",
          "name": "stdout",
          "text": [
            "10\n",
            "20\n",
            "30\n"
          ]
        }
      ]
    },
    {
      "cell_type": "markdown",
      "source": [
        "### Example 4: Usage as Dictionary Keys"
      ],
      "metadata": {
        "id": "j_rXyu4cpTSN"
      }
    },
    {
      "cell_type": "code",
      "source": [
        "# Tuples can be used as dictionary keys\n",
        "my_dict = {('John', 25): 'USA', ('Emily', 30): 'Canada'}\n",
        "print(my_dict[('John', 25)])  # Output: USA\n",
        "\n",
        "# Lists cannot be used as dictionary keys\n",
        "my_dict = {['John', 25]: 'USA'}  # Raises TypeError: unhashable type: 'list'\n"
      ],
      "metadata": {
        "id": "1gUjjfiVpVnj",
        "outputId": "72b8f222-2eef-45db-8d40-3180ad8d586f",
        "colab": {
          "base_uri": "https://localhost:8080/",
          "height": 217
        }
      },
      "execution_count": 8,
      "outputs": [
        {
          "output_type": "stream",
          "name": "stdout",
          "text": [
            "USA\n"
          ]
        },
        {
          "output_type": "error",
          "ename": "TypeError",
          "evalue": "ignored",
          "traceback": [
            "\u001b[0;31m---------------------------------------------------------------------------\u001b[0m",
            "\u001b[0;31mTypeError\u001b[0m                                 Traceback (most recent call last)",
            "\u001b[0;32m<ipython-input-8-a653e8fbccd2>\u001b[0m in \u001b[0;36m<cell line: 6>\u001b[0;34m()\u001b[0m\n\u001b[1;32m      4\u001b[0m \u001b[0;34m\u001b[0m\u001b[0m\n\u001b[1;32m      5\u001b[0m \u001b[0;31m# Lists cannot be used as dictionary keys\u001b[0m\u001b[0;34m\u001b[0m\u001b[0;34m\u001b[0m\u001b[0m\n\u001b[0;32m----> 6\u001b[0;31m \u001b[0mmy_dict\u001b[0m \u001b[0;34m=\u001b[0m \u001b[0;34m{\u001b[0m\u001b[0;34m[\u001b[0m\u001b[0;34m'John'\u001b[0m\u001b[0;34m,\u001b[0m \u001b[0;36m25\u001b[0m\u001b[0;34m]\u001b[0m\u001b[0;34m:\u001b[0m \u001b[0;34m'USA'\u001b[0m\u001b[0;34m}\u001b[0m  \u001b[0;31m# Raises TypeError: unhashable type: 'list'\u001b[0m\u001b[0;34m\u001b[0m\u001b[0;34m\u001b[0m\u001b[0m\n\u001b[0m",
            "\u001b[0;31mTypeError\u001b[0m: unhashable type: 'list'"
          ]
        }
      ]
    }
  ]
}