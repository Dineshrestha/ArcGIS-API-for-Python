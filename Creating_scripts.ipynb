{
  "nbformat": 4,
  "nbformat_minor": 0,
  "metadata": {
    "colab": {
      "provenance": [],
      "authorship_tag": "ABX9TyPevIEPi9RegPFaJfiRLb0S",
      "include_colab_link": true
    },
    "kernelspec": {
      "name": "python3",
      "display_name": "Python 3"
    },
    "language_info": {
      "name": "python"
    }
  },
  "cells": [
    {
      "cell_type": "markdown",
      "metadata": {
        "id": "view-in-github",
        "colab_type": "text"
      },
      "source": [
        "<a href=\"https://colab.research.google.com/github/Dineshrestha/ArcGIS-API-for-Python/blob/master/Creating_scripts.ipynb\" target=\"_parent\"><img src=\"https://colab.research.google.com/assets/colab-badge.svg\" alt=\"Open In Colab\"/></a>"
      ]
    },
    {
      "cell_type": "code",
      "execution_count": null,
      "metadata": {
        "id": "YJnzBA63wnZB"
      },
      "outputs": [],
      "source": []
    },
    {
      "cell_type": "markdown",
      "source": [
        "# Creating scripts\n",
        "Python scripts are composed of three different types of components: data types, statements, and functions."
      ],
      "metadata": {
        "id": "YzSZXN3JwpQP"
      }
    },
    {
      "cell_type": "code",
      "source": [
        "#Import modules\n",
        "import math\n",
        "\n",
        "#Assign variables to numbers\n",
        "a = -10\n",
        "b = 0\n",
        "c = 10\n",
        "\n",
        "#Find the square root of numbers\n",
        "numbers = [a, b, c]\n",
        "squareRoot = []\n",
        "for number in numbers:\n",
        "    if number >= 0:\n",
        "        squareRoot.append(math.sqrt(number))\n",
        "    else:\n",
        "        pass\n",
        "print(squareRoot)"
      ],
      "metadata": {
        "colab": {
          "base_uri": "https://localhost:8080/"
        },
        "id": "eB5gpJZow39J",
        "outputId": "c0521fff-b89e-4813-b42b-65002c56c8d4"
      },
      "execution_count": 1,
      "outputs": [
        {
          "output_type": "stream",
          "name": "stdout",
          "text": [
            "[0.0, 3.1622776601683795]\n"
          ]
        }
      ]
    }
  ]
}