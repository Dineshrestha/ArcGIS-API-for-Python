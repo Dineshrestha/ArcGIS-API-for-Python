{
  "nbformat": 4,
  "nbformat_minor": 0,
  "metadata": {
    "colab": {
      "provenance": [],
      "authorship_tag": "ABX9TyMcZnCRoB7WuJCg6sjmwf9t",
      "include_colab_link": true
    },
    "kernelspec": {
      "name": "python3",
      "display_name": "Python 3"
    },
    "language_info": {
      "name": "python"
    }
  },
  "cells": [
    {
      "cell_type": "markdown",
      "metadata": {
        "id": "view-in-github",
        "colab_type": "text"
      },
      "source": [
        "<a href=\"https://colab.research.google.com/github/Dineshrestha/ArcGIS-API-for-Python/blob/master/Using_Python_Script_to_export_MapSeries_in_ArcGIS_Pro.ipynb\" target=\"_parent\"><img src=\"https://colab.research.google.com/assets/colab-badge.svg\" alt=\"Open In Colab\"/></a>"
      ]
    },
    {
      "cell_type": "markdown",
      "source": [
        "## Map Series"
      ],
      "metadata": {
        "id": "fiVBLJfT5tND"
      }
    },
    {
      "cell_type": "markdown",
      "source": [
        "Map Series, also known as Data Driven Pages in ArcGIS Pro, is a feature that allows you to create a set of map pages or a map book based on a single layout with a series of features or attribute values. It is commonly used to create map books, atlas-style layouts, or a set of maps representing different regions, features, or data subsets in a GIS project.\n",
        "\n",
        "## The steps to create a Map Series in ArcGIS Pro are as follows:\n",
        "\n",
        "- Prepare Data: Make sure you have the necessary data layers and attribute\n",
        "information that you want to use to drive the map series. This data should be organized in a way that corresponds to the pages or sections you want to create in your map series.\n",
        "\n",
        "- Create a Layout: Open ArcGIS Pro and create a new layout. Design your map layout with elements like maps, legends, titles, scale bars, and any other cartographic elements that you want to include on each page of the map series.\n",
        "\n",
        "- Enable Data Driven Pages: In the Layout view, go to the \"Insert\" tab and click on the \"Data Driven Pages\" button. This will open the Data Driven Pages toolbar.\n",
        "\n",
        "- Set Up the Map Series: On the Data Driven Pages toolbar, click on the \"Setup\" button. In the Data Driven Pages Setup dialog, select the layer or attribute that will drive the map series. You can choose a polygon layer that represents different regions or a table with a list of features or attribute values that you want to use as pages.\n",
        "\n",
        "- Define the Extent: In the Data Driven Pages Setup dialog, you can choose to define the extent of each page based on the features' extent or center and scale. You can also set a fixed scale for all pages or let the scale vary based on the features' extent.\n",
        "\n",
        "- Set Up Dynamic Text: You can add dynamic text to the layout, which will update automatically based on the current page in the map series. For example, you can add dynamic text showing the page name or attribute values of the current page.\n",
        "\n",
        "- Review and Export: Once you have set up the map series, you can review the pages by clicking through them in the Data Driven Pages toolbar. When you are satisfied with the layout, you can export the map series to different formats like PDF or print the pages directly.\n",
        "\n",
        "## Important Terms and Concepts in Map Series:\n",
        "\n",
        "- Data Driven Pages: This refers to the feature in ArcGIS Pro that allows you to create a series of map pages based on a single layout and a set of features or attribute values.\n",
        "\n",
        "- Page Name: The name or title given to each page in the map series. This can be based on the attributes of the features or other custom names.\n",
        "\n",
        "- Page Extent: The geographic extent of each page in the map series. It can be determined automatically based on the features' extent or center, or manually set.\n",
        "\n",
        "- Page Scale: The scale at which each page in the map series will be displayed. It can be a fixed scale for all pages or varied based on the features' extent.\n",
        "\n",
        "- Dynamic Text: Text elements in the layout that update automatically based on the current page in the map series. This can include the page name, attribute values, or any other dynamic information.\n",
        "\n",
        "- Index Layer: The layer or table used to drive the map series. It contains the features or attribute values that will be used to create the pages.\n",
        "\n",
        "- Data Driven Pages Toolbar: The toolbar in ArcGIS Pro that allows you to set up and navigate through the map series pages.\n",
        "\n",
        "By using Map Series, you can efficiently create map books, atlases, or sets of maps that are tailored to specific regions or features in your GIS project. It is a powerful tool for cartographic display and sharing information in a systematic and organized way."
      ],
      "metadata": {
        "id": "xFxDTbzn6Qxb"
      }
    },
    {
      "cell_type": "markdown",
      "source": [
        "# About the script\n",
        "- This script will access to ArcGIS Pro file: MapSeries_demo.aprx\n",
        "- Then, it will now use the layout with the name \"MapSeries_demo\" to export the map series as a PDF.\n",
        "- It is set to loop through all the pages of the layout and export each page to a separate PDF file with the naming convention \"MapSeries_demo_PageX.pdf\" where X is the page number. The currentPageNumber property is used to activate the desired page before exporting it to PDF. For the demo purpose, I have set page range (1,21). Feel free to edit as per your requirement.\n",
        "- This script will export separate PDF files for pages 1 to 20 of the map series, with each file named as \"MapSeries_demo_Page1.pdf\", \"MapSeries_demo_Page2.pdf\", and so on.\n",
        "- Then, these individual PDF files are merged using PyPDF2 to merge the individual PDFs into a single PDF file named \"MapSeries_demo_Merged.pdf\".\n",
        "- The script also estimates the start time and end time of the PDF export process and calculates the total time taken. It also includes print statements after exporting each PDF to provide a progress update.\n",
        "- This script will create individual PDF files in the temporary folder, merge them into a single PDF in the output folder, and then delete the temporary folder at the end."
      ],
      "metadata": {
        "id": "iAdu74bZ6wTr"
      }
    },
    {
      "cell_type": "code",
      "source": [
        "# First, you need to install the PyPDF2 and pdfmerge package if you haven't already. You can do this by running the following command in your ArcGIS Pro Python environment:\n",
        "# pip install PyPDF2\n",
        "# pip install pdfmerge\n",
        "\n",
        "# Once you have PyPDF2 and pdfmerge installed, you can use it to merge the individual PDFs generated from the map series export. Here's the updated script:"
      ],
      "metadata": {
        "id": "X8Pa_VjQ7VWA"
      },
      "execution_count": null,
      "outputs": []
    },
    {
      "cell_type": "code",
      "execution_count": null,
      "metadata": {
        "id": "KfzAT04A5sZD"
      },
      "outputs": [],
      "source": [
        "import arcpy\n",
        "import os\n",
        "from datetime import datetime\n",
        "from PyPDF2 import PdfFileMerger\n",
        "\n",
        "# Set the path to the map series\n",
        "map_series_path = r\"C:\\User\\Projects\\MapSeries_demo.aprx\"\n",
        "\n",
        "# Open the map series project\n",
        "aprx = arcpy.mp.ArcGISProject(map_series_path)\n",
        "\n",
        "# Find the layout with the specified name\n",
        "layout_name = \"MapSeries_demo\"\n",
        "layout = aprx.listLayouts(layout_name)[0]\n",
        "\n",
        "# Set the temporary folder for individual PDFs\n",
        "temp_folder = r\"C:\\Temp\\MapSeriesExport\"\n",
        "os.makedirs(temp_folder, exist_ok=True)\n",
        "\n",
        "# Export pages 1 to 5 to individual PDF files\n",
        "pdf_files = []\n",
        "start_time = datetime.now()\n",
        "print(\"Exporting PDFs...\")\n",
        "for page_number in range(1, 21):\n",
        "    # Set the output PDF path for the current page\n",
        "    output_pdf = fr\"{temp_folder}\\MapSeries_demo_Page{page_number}.pdf\"\n",
        "\n",
        "    # Set the active page of the map series\n",
        "    layout.mapSeries.currentPageNumber = page_number\n",
        "\n",
        "    # Export the current page to PDF\n",
        "    layout.exportToPDF(output_pdf)\n",
        "\n",
        "    pdf_files.append(output_pdf)\n",
        "    print(f\"Exported PDF: {output_pdf}\")\n",
        "\n",
        "end_time = datetime.now()\n",
        "total_time = end_time - start_time\n",
        "print(\"Map series exported successfully.\")\n",
        "print(f\"Start Time: {start_time}\")\n",
        "print(f\"End Time: {end_time}\")\n",
        "print(f\"Total Time: {total_time}\")\n",
        "\n",
        "# Merge the individual PDFs into a single PDF in the output folder\n",
        "output_folder = r\"C:\\User\\Projects\\ScriptTest\"\n",
        "output_merged_pdf = fr\"{output_folder}\\MapSeries_demo__Merged.pdf\"\n",
        "pdf_merger = PdfFileMerger()\n",
        "for pdf_file in pdf_files:\n",
        "    pdf_merger.append(pdf_file)\n",
        "pdf_merger.write(output_merged_pdf)\n",
        "pdf_merger.close()\n",
        "\n",
        "# Delete the temporary folder\n",
        "if os.path.exists(temp_folder):\n",
        "    for file in os.listdir(temp_folder):\n",
        "        file_path = os.path.join(temp_folder, file)\n",
        "        os.remove(file_path)\n",
        "    os.rmdir(temp_folder)\n"
      ]
    },
    {
      "cell_type": "markdown",
      "source": [
        "## Export maps from various layouts\n",
        "The script is designed to export all layouts from an ArcGIS Pro project (aprx file) as PNG files. It performs the following steps:\n",
        "\n",
        "1. It imports the arcpy module, which allows the script to access ArcGIS geoprocessing tools and functionalities.\n",
        "\n",
        "2. It sets the variable aprx to the path of the ArcGIS Pro project (aprx) file.\n",
        "\n",
        "3. It defines the output_folder variable to specify the location where the PNG files will be saved.\n",
        "\n",
        "4. It loops through each layout in the ArcGIS Pro project using a for loop.\n",
        "\n",
        "5. For each layout, it prints information about the layout, including its name, page height, page width, and units (e.g., inches or centimeters).\n",
        "\n",
        "6. It constructs the output path for the PNG file by appending the layout name to the output_folder path.\n",
        "\n",
        "7. It exports the layout to a PNG file using the exportToPNG() method of the layout object. The PNG file will be saved at the specified output path with a resolution of 300 dots per inch (DPI).\n",
        "\n",
        "8. After exporting the layout, it prints a message indicating that the map has been exported and specifies the output path of the PNG file.\n",
        "\n",
        "9. The script continues to repeat steps 4 to 8 for each layout in the ArcGIS Pro project.\n",
        "\n",
        "10. After processing all layouts, the script prints a final message indicating that all maps have been successfully exported.\n",
        "\n",
        "In summary, the script automates the process of exporting all layouts from an ArcGIS Pro project to PNG files, making it easier to share the maps or use them in other applications or documents."
      ],
      "metadata": {
        "id": "DLWPFcV05iv7"
      }
    },
    {
      "cell_type": "code",
      "source": [
        "import arcpy\n",
        "\n",
        "aprx = arcpy.mp.ArcGISProject(r\"C:\\User\\Projects\\MapExport_demo.aprx\")\n",
        "\n",
        "output_folder = r\"C:\\User\\Projects\\MapExports\\PNG\"\n",
        "\n",
        "for lyt in aprx.listLayouts():\n",
        "    print(\"Exporting map: {0} ({1} x {2} {3})\".format(lyt.name, lyt.pageHeight, lyt.pageWidth, lyt.pageUnits))\n",
        "    output_path = output_folder + \"\\\\\" + lyt.name + \".png\"\n",
        "    lyt.exportToPNG(output_path, resolution=300)\n",
        "    print(\"Map {0} exported to: {1}\".format(lyt.name, output_path))\n",
        "\n",
        "print(\"All maps exported successfully.\")\n"
      ],
      "metadata": {
        "id": "SJ2vN-8n5mQS"
      },
      "execution_count": null,
      "outputs": []
    },
    {
      "cell_type": "markdown",
      "source": [
        "---------------------------------------------------------------------------\n",
        "SyntaxError                               Traceback (most recent call last)\n",
        "File C:\\ArcGIS\\Pro\\bin\\Python\\envs\\arcgispro-py3\\lib\\ast.py, in parse:\n",
        "Line 50:    return compile(source, filename, mode, flags,\n",
        "\n",
        "SyntaxError: EOL while scanning string literal (<string>, line 7)\n",
        "---------------------------------------------------------------------------"
      ],
      "metadata": {
        "id": "PVpjFbniKHdM"
      }
    }
  ]
}